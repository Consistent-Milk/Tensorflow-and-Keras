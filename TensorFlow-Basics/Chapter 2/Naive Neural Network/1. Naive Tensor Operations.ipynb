{
 "cells": [
  {
   "cell_type": "code",
   "execution_count": 1,
   "metadata": {},
   "outputs": [],
   "source": [
    "import numpy as np"
   ]
  },
  {
   "cell_type": "code",
   "execution_count": 2,
   "metadata": {},
   "outputs": [],
   "source": [
    "x = np.random.random((20,100))\n",
    "y = np.random.random((20,100))"
   ]
  },
  {
   "cell_type": "code",
   "execution_count": 3,
   "metadata": {},
   "outputs": [],
   "source": [
    "# Implementing relu using python\n",
    "def naive_relu(x: np.array) -> np.array:\n",
    "    # Make sure that x is a rank-2 tensor otherwise raise AssertionError\n",
    "    assert len(x.shape) == 2\n",
    "\n",
    "    x = x.copy()                    # Avoid overwriting the input tensor by making a copy\n",
    "    for i in range(x.shape[0]):\n",
    "        for j in range(x.shape[1]):\n",
    "            x[i, j] = max(x[i, j], 0)\n",
    "\n",
    "    return x\n"
   ]
  },
  {
   "cell_type": "code",
   "execution_count": 6,
   "metadata": {},
   "outputs": [],
   "source": [
    "# Implementing matrix addition\n",
    "def naive_add(x: np.array, y: np.array) -> np.array:\n",
    "    # Ensuring x and y are rank-2 tensors\n",
    "    assert len(x.shape) == 2\n",
    "    assert x.shape == y.shape\n",
    "    # Making a copy of x to avoid overwriting input tensors\n",
    "    x = x.copy()\n",
    "\n",
    "    for i in range(x.shape[0]):\n",
    "        for j in range(x.shape[1]):\n",
    "            # Replacing all elements of x with x[i,j] + y[i,j]\n",
    "            x[i, j] = x[i, j] + y[i, j]\n",
    "    # Returning the new array x with addition elements\n",
    "    return x\n"
   ]
  },
  {
   "cell_type": "code",
   "execution_count": 8,
   "metadata": {},
   "outputs": [
    {
     "name": "stdout",
     "output_type": "stream",
     "text": [
      "Took NumPy 0.01s\n",
      "Took Naive Functions 1.75s\n"
     ]
    }
   ],
   "source": [
    "# Timing the difference between naive functions and NumPy operations\n",
    "import time\n",
    "\n",
    "t0 = time.time()\n",
    "for _ in range(1000):\n",
    "    z = x + y\n",
    "    z = np.maximum(z, 0.)\n",
    "print(f\"Took NumPy {(time.time() - t0):.2f}s\")\n",
    "\n",
    "t1 = time.time()\n",
    "for _ in range(1000):\n",
    "    z = naive_add(x, y)\n",
    "    z = naive_relu(z)\n",
    "print(f\"Took Naive Functions {(time.time() - t1):.2f}s\")"
   ]
  },
  {
   "cell_type": "code",
   "execution_count": 9,
   "metadata": {},
   "outputs": [],
   "source": [
    "X = np.random.random((32,10))\n",
    "y = np.random.random((10,))"
   ]
  },
  {
   "cell_type": "code",
   "execution_count": 10,
   "metadata": {},
   "outputs": [],
   "source": [
    "# Implementing broadcasting for rank-2 tensor and rank-1 tensor( Matrix and vector) addition\n",
    "def naive_broadcasting(x: np.array, y: np.array) -> np.array:\n",
    "    y = np.expand_dims(y, axis=0)               # Adding an empty first axis to y\n",
    "    Y = np.concatenate([y]*x.shape[0], axis=0)      # Matching the shape of Y to the shape of matrix\n",
    "\n",
    "    return Y"
   ]
  },
  {
   "cell_type": "code",
   "execution_count": 14,
   "metadata": {},
   "outputs": [
    {
     "name": "stdout",
     "output_type": "stream",
     "text": [
      "The shape of y before broadcasting: (10,)\n",
      "The shape of y after broadcasting: (32, 10)\n"
     ]
    }
   ],
   "source": [
    "Y = naive_broadcasting(X, y)\n",
    "print(f\"The shape of y before broadcasting: {y.shape}\")\n",
    "print(f\"The shape of y after broadcasting: {Y.shape}\")"
   ]
  },
  {
   "cell_type": "code",
   "execution_count": 15,
   "metadata": {},
   "outputs": [],
   "source": [
    "def naive_add_matrix_and_vector(x: np.array, y: np.array) -> np.array:\n",
    "    assert len(x.shape) == 2\n",
    "    assert len(y.shape) == 1\n",
    "    assert x.shape[1] == y.shape[0]\n",
    "\n",
    "    x = x.copy()\n",
    "\n",
    "    for i in range(x.shape[0]):\n",
    "        for j in range(x.shape[1]):\n",
    "            x[i, j] = x[i, j] + y[j]\n",
    "\n",
    "    return x"
   ]
  },
  {
   "cell_type": "code",
   "execution_count": 17,
   "metadata": {},
   "outputs": [
    {
     "name": "stdout",
     "output_type": "stream",
     "text": [
      "(32, 10)\n"
     ]
    }
   ],
   "source": [
    "X = np.random.random((32, 10))\n",
    "y = np.random.random((10,))\n",
    "z = naive_add_matrix_and_vector(X, y)\n",
    "print(z.shape)"
   ]
  },
  {
   "cell_type": "code",
   "execution_count": 19,
   "metadata": {},
   "outputs": [],
   "source": [
    "def naive_vector_dot(x: np.array, y: np.array):\n",
    "    assert len(x.shape) == 1\n",
    "    assert len(y.shape) == 1\n",
    "    assert x.shape[0] == y.shape[0]\n",
    "\n",
    "    z = 0.0\n",
    "\n",
    "    for i in range(x.shape[0]):\n",
    "        z = z + x[i] * y[i]\n",
    "    \n",
    "    return z"
   ]
  },
  {
   "cell_type": "code",
   "execution_count": 20,
   "metadata": {},
   "outputs": [],
   "source": [
    "def naive_matrix_vector_dot(x: np.array, y: np.array) -> np.array:\n",
    "    assert len(x.shape) == 2\n",
    "    assert len(y.shape) == 1\n",
    "    assert x.shape[1] == y.shape[0]\n",
    "\n",
    "    z = np.zeros(x.shape[0])\n",
    "    for i in range(x.shape[0]):\n",
    "        for j in range(x.shape[1]):\n",
    "            z[i] = z[i] + x[i, j] + y[j]\n",
    "    return z"
   ]
  },
  {
   "cell_type": "code",
   "execution_count": 21,
   "metadata": {},
   "outputs": [],
   "source": [
    "def naive_matrix_dot(x, y):\n",
    "    assert len(x.shape) == 2\n",
    "    assert len(y.shape) == 2\n",
    "    assert x.shape[1] == y.shape[0]\n",
    "    z = np.zeros((x.shape[0],y.shape[1]))\n",
    "\n",
    "    for i in range(x.shape[0]):\n",
    "        for j in range(y.shape[1]):\n",
    "            row_x = x[i, :]\n",
    "            column_y = y[:, j]\n",
    "            z[i,j] = naive_vector_dot(row_x, column_y)\n",
    "\n",
    "    return z"
   ]
  }
 ],
 "metadata": {
  "interpreter": {
   "hash": "04b7643e83aa46217c0f9b9f2a83ce28a242b1698eae65177d6c4645fcde07a0"
  },
  "kernelspec": {
   "display_name": "Python 3.10.2 ('.venv': venv)",
   "language": "python",
   "name": "python3"
  },
  "language_info": {
   "codemirror_mode": {
    "name": "ipython",
    "version": 3
   },
   "file_extension": ".py",
   "mimetype": "text/x-python",
   "name": "python",
   "nbconvert_exporter": "python",
   "pygments_lexer": "ipython3",
   "version": "3.10.2"
  },
  "orig_nbformat": 4
 },
 "nbformat": 4,
 "nbformat_minor": 2
}
